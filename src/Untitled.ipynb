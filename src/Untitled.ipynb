{
 "cells": [
  {
   "cell_type": "code",
   "execution_count": 1,
   "id": "370b2fb7-f37a-43fe-85ce-71a3a3b3882b",
   "metadata": {},
   "outputs": [],
   "source": [
    "import pandas as pd\n",
    "import yfinance as yf\n",
    "from datetime import date, timedelta\n",
    "from pandas.tseries.offsets import BMonthEnd, BMonthBegin\n",
    "from sklearn.linear_model import LinearRegression\n",
    "import numpy as np"
   ]
  },
  {
   "cell_type": "code",
   "execution_count": 2,
   "id": "d2dcac7a-0012-4e40-bc89-0e5e90aea929",
   "metadata": {},
   "outputs": [],
   "source": [
    "def wrangle(stocks):\n",
    "    #last day from previous month\n",
    "    lday_pvm = pd.to_datetime(date.today() + BMonthEnd(-1))\n",
    "    #first day from 4th previous months\n",
    "    fday_4pvm = pd.to_datetime(date.today() + BMonthBegin(-4))\n",
    "    df = yf.download(stocks, end=date.today())\n",
    "    data = df[fday_4pvm:lday_pvm][\"Adj Close\"]\n",
    "    return data"
   ]
  },
  {
   "cell_type": "code",
   "execution_count": 3,
   "id": "c7277e18-5e5e-4d70-8da8-fe9cc4d96656",
   "metadata": {},
   "outputs": [],
   "source": [
    "def fit_reg(stock_data):\n",
    "    X = np.asarray(range(0, len(stock_data.index))).reshape(-1, 1)\n",
    "    y = np.log1p(stock_data)\n",
    "    reg = LinearRegression()\n",
    "    reg.fit(X, y)\n",
    "    return reg.coef_[0], reg.score(X, y)"
   ]
  },
  {
   "cell_type": "code",
   "execution_count": 4,
   "id": "3571fa41-d37f-4dc5-8d4d-7423fe1ea736",
   "metadata": {},
   "outputs": [],
   "source": [
    "import requests\n",
    "import json"
   ]
  },
  {
   "cell_type": "code",
   "execution_count": 5,
   "id": "4d19d267-8128-407e-848a-c2880310e8a2",
   "metadata": {},
   "outputs": [],
   "source": [
    "str_date = pd.to_datetime(date.today() + BMonthEnd(-1)).strftime('%Y%m%d')"
   ]
  },
  {
   "cell_type": "code",
   "execution_count": 6,
   "id": "9852266d-0101-4848-b07e-2a1dcccfd9e9",
   "metadata": {},
   "outputs": [],
   "source": [
    "url = f\"https://www.blackrock.com/br/products/251816/ishares-ibovespa-fundo-de-ndice-fund/1506433276998.ajax?tab=all&fileType=json&asOfDate={str_date}&_=1660695636657\""
   ]
  },
  {
   "cell_type": "code",
   "execution_count": 7,
   "id": "e6545fb1-a17b-464d-b72a-0405c4164035",
   "metadata": {},
   "outputs": [],
   "source": [
    "page = requests.get(url)\n",
    "decoded_data=page.text.encode().decode('utf-8-sig') \n",
    "data = json.loads(decoded_data)"
   ]
  },
  {
   "cell_type": "code",
   "execution_count": 8,
   "id": "708e0d34-0c02-4cf1-b5c6-5fce40eb9f21",
   "metadata": {},
   "outputs": [],
   "source": [
    "stocks = []\n",
    "for d in data[\"aaData\"]:\n",
    "    #include only equity assets (excluding futures, cash, cash funds etc)\n",
    "    if d[10] == \"XBSP\":\n",
    "        stocks.append(str(d[0]) + \".SA\")"
   ]
  },
  {
   "cell_type": "code",
   "execution_count": 9,
   "id": "f9296d04-b8c7-46d2-8853-1d552508ed55",
   "metadata": {},
   "outputs": [
    {
     "name": "stdout",
     "output_type": "stream",
     "text": [
      "[*********************100%***********************]  90 of 90 completed\n"
     ]
    }
   ],
   "source": [
    "df = wrangle(stocks)"
   ]
  },
  {
   "cell_type": "code",
   "execution_count": 10,
   "id": "a1d1c55f-0a69-45b5-b21a-377322aff8ae",
   "metadata": {},
   "outputs": [],
   "source": [
    "list_coef = []\n",
    "list_score = []\n",
    "for d in df:\n",
    "    coef, score = fit_reg(df[d])\n",
    "    list_coef.append(coef)\n",
    "    list_score.append(score)\n",
    "momentum = [x*y for x, y in zip(list_coef, list_score)]"
   ]
  },
  {
   "cell_type": "code",
   "execution_count": 11,
   "id": "5bc06e8b-810e-437a-8fc8-4a3de215da36",
   "metadata": {},
   "outputs": [],
   "source": [
    "momentum_stocks = pd.DataFrame(\n",
    "    {\n",
    "    \"lr_coef\": list_coef,\n",
    "    \"lr_r2\": list_score,\n",
    "    \"momentum\": momentum\n",
    "    },\n",
    "    index=df.columns\n",
    ").sort_values(\"momentum\", ascending=False).head(5).index.to_list()"
   ]
  },
  {
   "cell_type": "code",
   "execution_count": 15,
   "id": "d5817d97-fd57-4d5d-a288-cd2509a2566f",
   "metadata": {},
   "outputs": [
    {
     "name": "stdout",
     "output_type": "stream",
     "text": [
      "[*********************100%***********************]  5 of 5 completed\n"
     ]
    }
   ],
   "source": [
    "first = yf.download(momentum_stocks, start=pd.to_datetime(date.today() + BMonthBegin(-1)), end=date.today())[\"Open\"].iloc[0]"
   ]
  },
  {
   "cell_type": "code",
   "execution_count": 16,
   "id": "afeb6528-e593-463e-8104-0c67af5e4edf",
   "metadata": {},
   "outputs": [
    {
     "name": "stdout",
     "output_type": "stream",
     "text": [
      "[*********************100%***********************]  5 of 5 completed\n"
     ]
    }
   ],
   "source": [
    "last = yf.download(momentum_stocks, start=pd.to_datetime(date.today() + BMonthBegin(-1)), end=date.today())[\"Adj Close\"].iloc[-1]"
   ]
  },
  {
   "cell_type": "code",
   "execution_count": 33,
   "id": "b54c41c4-13e3-4ad1-98b2-1b87403c567f",
   "metadata": {},
   "outputs": [
    {
     "data": {
      "text/plain": [
       "7.69"
      ]
     },
     "execution_count": 33,
     "metadata": {},
     "output_type": "execute_result"
    }
   ],
   "source": [
    "round(((last - first) / first).mean()*100, 2)"
   ]
  },
  {
   "cell_type": "code",
   "execution_count": 35,
   "id": "8d78940d-5bbc-4981-b807-87022f747312",
   "metadata": {},
   "outputs": [],
   "source": [
    "def send_bot_message(text):\n",
    "    base_url = f\"https://api.telegram.org/bot5311633103:AAGa9I1UvslJjRNESegHSU6-xlPtoe7hKPE/sendMessage?chat_id=-1001153572177&text={text}\"\n",
    "    return requests.get(base_url).text"
   ]
  },
  {
   "cell_type": "code",
   "execution_count": 38,
   "id": "5bc0929d-147e-4da2-95a6-53bdedf12f89",
   "metadata": {},
   "outputs": [
    {
     "data": {
      "text/plain": [
       "'{\"ok\":true,\"result\":{\"message_id\":5,\"from\":{\"id\":5311633103,\"is_bot\":true,\"first_name\":\"MomentumBot\",\"username\":\"momentumbr_bot\"},\"chat\":{\"id\":-1001153572177,\"title\":\"Momentum_BR\",\"username\":\"momentum_br\",\"type\":\"supergroup\"},\"date\":1660766558,\"text\":\"[\\'CIEL3.SA\\', \\'ELET6.SA\\', \\'BRFS3.SA\\', \\'ELET3.SA\\', \\'HYPE3.SA\\']\",\"entities\":[{\"offset\":2,\"length\":8,\"type\":\"url\"},{\"offset\":14,\"length\":8,\"type\":\"url\"},{\"offset\":26,\"length\":8,\"type\":\"url\"},{\"offset\":38,\"length\":8,\"type\":\"url\"},{\"offset\":50,\"length\":8,\"type\":\"url\"}]}}'"
      ]
     },
     "execution_count": 38,
     "metadata": {},
     "output_type": "execute_result"
    }
   ],
   "source": [
    "send_bot_message(momentum_stocks)"
   ]
  },
  {
   "cell_type": "code",
   "execution_count": 39,
   "id": "5334afb1-e0bd-4bd2-958d-1f06de28df9f",
   "metadata": {},
   "outputs": [
    {
     "data": {
      "text/plain": [
       "'{\"ok\":true,\"result\":{\"message_id\":6,\"from\":{\"id\":5311633103,\"is_bot\":true,\"first_name\":\"MomentumBot\",\"username\":\"momentumbr_bot\"},\"chat\":{\"id\":-1001153572177,\"title\":\"Momentum_BR\",\"username\":\"momentum_br\",\"type\":\"supergroup\"},\"date\":1660766560,\"text\":\"7.69%\"}}'"
      ]
     },
     "execution_count": 39,
     "metadata": {},
     "output_type": "execute_result"
    }
   ],
   "source": [
    "send_bot_message(str(round(((last - first) / first).mean()*100, 2)) + \"%\")"
   ]
  },
  {
   "cell_type": "code",
   "execution_count": null,
   "id": "5e1e1e18-e339-4ec0-952b-76e5fd0038df",
   "metadata": {},
   "outputs": [],
   "source": []
  }
 ],
 "metadata": {
  "kernelspec": {
   "display_name": "Python 3 (ipykernel)",
   "language": "python",
   "name": "python3"
  },
  "language_info": {
   "codemirror_mode": {
    "name": "ipython",
    "version": 3
   },
   "file_extension": ".py",
   "mimetype": "text/x-python",
   "name": "python",
   "nbconvert_exporter": "python",
   "pygments_lexer": "ipython3",
   "version": "3.9.12"
  }
 },
 "nbformat": 4,
 "nbformat_minor": 5
}
